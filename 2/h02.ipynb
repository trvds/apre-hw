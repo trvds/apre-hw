{
 "cells": [
  {
   "cell_type": "markdown",
   "metadata": {},
   "source": [
    "### Exercise 5\n",
    "Using sklearn, considering a 10-fold stratified cross validation (random=0), plot the cumulative \n",
    "testing confusion matrices of 𝑘NN (uniform weights, 𝑘 =5, Euclidean distance) and Naïve Bayes \n",
    "(Gaussian assumption). Use all remaining classifier parameters as default."
   ]
  },
  {
   "cell_type": "code",
   "execution_count": 34,
   "metadata": {},
   "outputs": [],
   "source": [
    "import pandas as pd\n",
    "from scipy.io.arff import loadarff\n",
    "\n",
    "# Reading the ARFF file\n",
    "data = loadarff('data/pd_speech.arff')\n",
    "df = pd.DataFrame(data[0])\n",
    "df['class'] = df['class'].str.decode('utf-8')\n",
    "\n",
    "X = df.drop('class', axis=1)\n",
    "y = df['class']"
   ]
  },
  {
   "cell_type": "code",
   "execution_count": 35,
   "metadata": {},
   "outputs": [],
   "source": [
    "from sklearn.model_selection import StratifiedKFold\n",
    "from sklearn.neighbors import KNeighborsClassifier\n",
    "from sklearn.naive_bayes import GaussianNB\n",
    "from sklearn.metrics import confusion_matrix, ConfusionMatrixDisplay\n",
    "from sklearn.preprocessing import StandardScaler\n",
    "import numpy as np\n",
    "\n",
    "# Stratified K-Fold\n",
    "folds = StratifiedKFold(n_splits=10, shuffle=True, random_state=0)\n",
    "\n",
    "# KNN and Naive Bayes\n",
    "knn = KNeighborsClassifier(n_neighbors=5, weights='uniform', metric='euclidean')\n",
    "nb = GaussianNB()\n",
    "\n",
    "# initialize confusion matrices\n",
    "cm_knn = np.empty((0,0))\n",
    "cm_nb = np.empty((0,0))\n",
    "\n",
    "# initialize arrays to store the confusion matrices\n",
    "cm_knn = []\n",
    "cm_nb = []\n",
    "\n",
    "# initialize lists to store the accuracy of each fold\n",
    "acc_knn = []\n",
    "acc_nb = []\n",
    "\n",
    "# iterate per fold\n",
    "for train_k, test_k in folds.split(X, y):\n",
    "    # split the data\n",
    "    X_train, X_test = X.iloc[train_k], X.iloc[test_k]\n",
    "    y_train, y_test = y.iloc[train_k], y.iloc[test_k]\n",
    "    # train and assess\n",
    "    knn.fit(X_train, y_train)\n",
    "    nb.fit(X_train, y_train)\n",
    "    # add prediction to cumulative confusion matrix\n",
    "    cm_knn.append(confusion_matrix(y_test, knn.predict(X_test)))\n",
    "    cm_nb.append(confusion_matrix(y_test, nb.predict(X_test)))\n",
    "    # add accuracy to list\n",
    "    acc_knn.append(knn.score(X_test, y_test))\n",
    "    acc_nb.append(nb.score(X_test, y_test))"
   ]
  },
  {
   "cell_type": "code",
   "execution_count": 36,
   "metadata": {},
   "outputs": [
    {
     "data": {
      "text/plain": [
       "Text(0.5, 1.0, 'Naive Bayes')"
      ]
     },
     "execution_count": 36,
     "metadata": {},
     "output_type": "execute_result"
    },
    {
     "data": {
      "image/png": "[encoded data removed]",
      "text/plain": [
       "<Figure size 432x288 with 2 Axes>"
      ]
     },
     "metadata": {
      "needs_background": "light"
     },
     "output_type": "display_data"
    },
    {
     "data": {
      "image/png": "[encoded data removed]",
      "text/plain": [
       "<Figure size 432x288 with 2 Axes>"
      ]
     },
     "metadata": {
      "needs_background": "light"
     },
     "output_type": "display_data"
    }
   ],
   "source": [
    "# plot the confusion matrices\n",
    "disp_knn = ConfusionMatrixDisplay(sum(cm_knn))\n",
    "disp_knn.plot()\n",
    "disp_knn.ax_.set_title(\"K Nearest Neighbors\")\n",
    "disp_nb = ConfusionMatrixDisplay(sum(cm_nb))\n",
    "disp_nb.plot()\n",
    "disp_nb.ax_.set_title(\"Naive Bayes\")"
   ]
  },
  {
   "cell_type": "markdown",
   "metadata": {},
   "source": [
    "### Exercise 6\n",
    "\n",
    "Using scipy, test the hypothesis “𝑘NN is statistically superior to Naïve Bayes regarding \n",
    "accuracy”, asserting whether is true. "
   ]
  },
  {
   "cell_type": "code",
   "execution_count": 37,
   "metadata": {},
   "outputs": [
    {
     "name": "stdout",
     "output_type": "stream",
     "text": [
      "t = -1.45699523678738, p = 0.08955230012484414\n"
     ]
    }
   ],
   "source": [
    "# t-test to compare the accuracy of the two classifiers\n",
    "acc_knn, acc_nb\n",
    "from scipy.stats import ttest_rel\n",
    "t, p = ttest_rel(acc_knn, acc_nb, alternative='less')\n",
    "print(f\"t = {t}, p = {p}\")\n"
   ]
  }
 ],
 "metadata": {
  "kernelspec": {
   "display_name": "Python 3.9.1 64-bit",
   "language": "python",
   "name": "python3"
  },
  "language_info": {
   "codemirror_mode": {
    "name": "ipython",
    "version": 3
   },
   "file_extension": ".py",
   "mimetype": "text/x-python",
   "name": "python",
   "nbconvert_exporter": "python",
   "pygments_lexer": "ipython3",
   "version": "3.9.1"
  },
  "orig_nbformat": 4,
  "vscode": {
   "interpreter": {
    "hash": "a87c0c351317882431803002b6d939c70d40a3b637c07a3a3716cafdbc56a578"
   }
  }
 },
 "nbformat": 4,
 "nbformat_minor": 2
}
